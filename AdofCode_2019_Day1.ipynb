{
 "cells": [
  {
   "cell_type": "code",
   "execution_count": 2,
   "id": "ad8b9503",
   "metadata": {},
   "outputs": [
    {
     "name": "stdout",
     "output_type": "stream",
     "text": [
      "3182375\n"
     ]
    }
   ],
   "source": [
    "# First Star\n",
    "numObject = open('Q1.txt')\n",
    "sm = 0 #sum\n",
    "\n",
    "for i in numObject:\n",
    "    temp = int(i)\n",
    "    temp = temp/3 - 2 \n",
    "    sm += int(temp)\n",
    "print(sm)"
   ]
  },
  {
   "cell_type": "code",
   "execution_count": 13,
   "id": "39a4cf01",
   "metadata": {},
   "outputs": [
    {
     "name": "stdout",
     "output_type": "stream",
     "text": [
      "4770725\n"
     ]
    }
   ],
   "source": [
    "# Second Star\n",
    "numObject = open('Q1.txt')\n",
    "sm = 0\n",
    "\n",
    "for i in numObject:\n",
    "    temp = int(i)\n",
    "    temp_sum = int(0)\n",
    "    while temp > 0:       \n",
    "        temp = int(temp/3) - int(2)\n",
    "        if temp > 0:# only sum if the temp is > 0 \n",
    "            temp_sum += temp\n",
    "        \n",
    "    sm += int(temp_sum)  \n",
    "    \n",
    "print(sm)"
   ]
  }
 ],
 "metadata": {
  "kernelspec": {
   "display_name": "Python 3",
   "language": "python",
   "name": "python3"
  },
  "language_info": {
   "codemirror_mode": {
    "name": "ipython",
    "version": 3
   },
   "file_extension": ".py",
   "mimetype": "text/x-python",
   "name": "python",
   "nbconvert_exporter": "python",
   "pygments_lexer": "ipython3",
   "version": "3.8.8"
  }
 },
 "nbformat": 4,
 "nbformat_minor": 5
}
